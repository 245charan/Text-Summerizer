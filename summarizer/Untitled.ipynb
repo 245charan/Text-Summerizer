{
 "cells": [
  {
   "cell_type": "code",
   "execution_count": 1,
   "metadata": {},
   "outputs": [],
   "source": [
    "import torch\n",
    "from summarizer import Summarizer\n",
    "\n",
    "#assert torch.cuda.is_available()"
   ]
  },
  {
   "cell_type": "code",
   "execution_count": 3,
   "metadata": {},
   "outputs": [],
   "source": [
    "model = Summarizer('bert-large-uncased')"
   ]
  },
  {
   "cell_type": "code",
   "execution_count": 4,
   "metadata": {},
   "outputs": [
    {
     "ename": "NameError",
     "evalue": "name 'time' is not defined",
     "output_type": "error",
     "traceback": [
      "\u001b[1;31m---------------------------------------------------------------------------\u001b[0m",
      "\u001b[1;31mNameError\u001b[0m                                 Traceback (most recent call last)",
      "\u001b[1;32m<ipython-input-4-12ddb8fac3e8>\u001b[0m in \u001b[0;36m<module>\u001b[1;34m\u001b[0m\n\u001b[0;32m      1\u001b[0m \u001b[1;33m\u001b[0m\u001b[0m\n\u001b[1;32m----> 2\u001b[1;33m \u001b[0mstart\u001b[0m \u001b[1;33m=\u001b[0m \u001b[0mtime\u001b[0m\u001b[1;33m.\u001b[0m\u001b[0mtime\u001b[0m\u001b[1;33m(\u001b[0m\u001b[1;33m)\u001b[0m\u001b[1;33m\u001b[0m\u001b[1;33m\u001b[0m\u001b[0m\n\u001b[0m\u001b[0;32m      3\u001b[0m resp = model('''\n\u001b[0;32m      4\u001b[0m     \u001b[0mThe\u001b[0m \u001b[0mChrysler\u001b[0m \u001b[0mBuilding\u001b[0m\u001b[1;33m,\u001b[0m \u001b[0mthe\u001b[0m \u001b[0mfamous\u001b[0m \u001b[0mart\u001b[0m \u001b[0mdeco\u001b[0m \u001b[0mNew\u001b[0m \u001b[0mYork\u001b[0m \u001b[0mskyscraper\u001b[0m\u001b[1;33m,\u001b[0m \u001b[0mwill\u001b[0m \u001b[0mbe\u001b[0m \u001b[0msold\u001b[0m \u001b[1;32mfor\u001b[0m \u001b[0ma\u001b[0m \u001b[0msmall\u001b[0m \u001b[0mfraction\u001b[0m \u001b[0mof\u001b[0m \u001b[0mits\u001b[0m \u001b[0mprevious\u001b[0m \u001b[0msales\u001b[0m \u001b[0mprice\u001b[0m\u001b[1;33m.\u001b[0m\u001b[1;33m\u001b[0m\u001b[1;33m\u001b[0m\u001b[0m\n\u001b[0;32m      5\u001b[0m     \u001b[0mThe\u001b[0m \u001b[0mdeal\u001b[0m\u001b[1;33m,\u001b[0m \u001b[0mfirst\u001b[0m \u001b[0mreported\u001b[0m \u001b[0mby\u001b[0m \u001b[0mThe\u001b[0m \u001b[0mReal\u001b[0m \u001b[0mDeal\u001b[0m\u001b[1;33m,\u001b[0m \u001b[0mwas\u001b[0m \u001b[1;32mfor\u001b[0m\u001b[0;31m \u001b[0m\u001b[0;31m$\u001b[0m\u001b[1;36m150\u001b[0m \u001b[0mmillion\u001b[0m\u001b[1;33m,\u001b[0m \u001b[0maccording\u001b[0m \u001b[0mto\u001b[0m \u001b[0ma\u001b[0m \u001b[0msource\u001b[0m \u001b[0mfamiliar\u001b[0m \u001b[1;32mwith\u001b[0m \u001b[0mthe\u001b[0m \u001b[0mdeal\u001b[0m\u001b[1;33m.\u001b[0m\u001b[1;33m\u001b[0m\u001b[1;33m\u001b[0m\u001b[0m\n",
      "\u001b[1;31mNameError\u001b[0m: name 'time' is not defined"
     ]
    }
   ],
   "source": [
    "\n",
    "start = time.time()\n",
    "resp = model('''\n",
    "    The Chrysler Building, the famous art deco New York skyscraper, will be sold for a small fraction of its previous sales price.\n",
    "    The deal, first reported by The Real Deal, was for $150 million, according to a source familiar with the deal.\n",
    "    Mubadala, an Abu Dhabi investment fund, purchased 90% of the building for $800 million in 2008.\n",
    "    Real estate firm Tishman Speyer had owned the other 10%.\n",
    "    The buyer is RFR Holding, a New York real estate company.\n",
    "    Officials with Tishman and RFR did not immediately respond to a request for comments.\n",
    "    It's unclear when the deal will close.\n",
    "    The building sold fairly quickly after being publicly placed on the market only two months ago.\n",
    "    The sale was handled by CBRE Group.\n",
    "    The incentive to sell the building at such a huge loss was due to the soaring rent the owners pay to Cooper Union, a New York college, for the land under the building.\n",
    "    The rent is rising from $7.75 million last year to $32.5 million this year to $41 million in 2028.\n",
    "    Meantime, rents in the building itself are not rising nearly that fast.\n",
    "    While the building is an iconic landmark in the New York skyline, it is competing against newer office towers with large floor-to-ceiling windows and all the modern amenities.\n",
    "    Still the building is among the best known in the city, even to people who have never been to New York.\n",
    "    It is famous for its triangle-shaped, vaulted windows worked into the stylized crown, along with its distinctive eagle gargoyles near the top.\n",
    "    It has been featured prominently in many films, including Men in Black 3, Spider-Man, Armageddon, Two Weeks Notice and Independence Day.\n",
    "    The previous sale took place just before the 2008 financial meltdown led to a plunge in real estate prices.\n",
    "    Still there have been a number of high profile skyscrapers purchased for top dollar in recent years, including the Waldorf Astoria hotel, which Chinese firm Anbang Insurance purchased in 2016 for nearly $2 billion, and the Willis Tower in Chicago, which was formerly known as Sears Tower, once the world's tallest.\n",
    "    Blackstone Group (BX) bought it for $1.3 billion 2015.\n",
    "    The Chrysler Building was the headquarters of the American automaker until 1953, but it was named for and owned by Chrysler chief Walter Chrysler, not the company itself.\n",
    "    Walter Chrysler had set out to build the tallest building in the world, a competition at that time with another Manhattan skyscraper under construction at 40 Wall Street at the south end of Manhattan. He kept secret the plans for the spire that would grace the top of the building, building it inside the structure and out of view of the public until 40 Wall Street was complete.\n",
    "    Once the competitor could rise no higher, the spire of the Chrysler building was raised into view, giving it the title.\n",
    "'''\n",
    ")\n",
    "\n",
    "end = time.time()\n",
    "\n",
    "print(f'Response Time: {end-start}')\n",
    "print(f'Summary: {resp}')"
   ]
  },
  {
   "cell_type": "code",
   "execution_count": null,
   "metadata": {},
   "outputs": [],
   "source": [
    "#assert model.model.model.device.type == 'cuda'"
   ]
  }
 ],
 "metadata": {
  "kernelspec": {
   "display_name": "Python 3",
   "language": "python",
   "name": "python3"
  },
  "language_info": {
   "codemirror_mode": {
    "name": "ipython",
    "version": 3
   },
   "file_extension": ".py",
   "mimetype": "text/x-python",
   "name": "python",
   "nbconvert_exporter": "python",
   "pygments_lexer": "ipython3",
   "version": "3.7.2"
  }
 },
 "nbformat": 4,
 "nbformat_minor": 2
}
